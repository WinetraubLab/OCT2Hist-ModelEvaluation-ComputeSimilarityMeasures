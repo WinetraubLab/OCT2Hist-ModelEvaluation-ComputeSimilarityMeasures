{
  "cells": [
    {
      "cell_type": "markdown",
      "metadata": {
        "id": "4EGufdffjHjK"
      },
      "source": [
        "# Script Inputs\n"
      ]
    },
    {
      "cell_type": "code",
      "execution_count": 1,
      "metadata": {
        "id": "z_G_r9iwjDXq"
      },
      "outputs": [],
      "source": [
        "# Separate images within a folder into lists based on if they end with \"real_B\" or \"fake_B\"\n",
        "images_folder = '/content/drive/Shareddrives/Yolab - Current Projects/Paulo de Luna/cycleGan/test_results/oct2h_e/test_latest/images'\n",
        "\n",
        "# Select how many paired images and their scores to present (best and worst scores)\n",
        "number = 5\n",
        "\n",
        "# Output CSV file path where the scores of each image will be saved to and name of CSV file\n",
        "output_csv_file_path = '/content/drive/Shareddrives/Yolab - Current Projects/Patricio Gonzalez/compute_metrics_on_dataset/output.csv'"
      ]
    },
    {
      "cell_type": "markdown",
      "metadata": {
        "id": "TGh3vysxja3S"
      },
      "source": [
        "# Main Function"
      ]
    },
    {
      "cell_type": "code",
      "execution_count": 2,
      "metadata": {
        "colab": {
          "base_uri": "https://localhost:8080/",
          "height": 347
        },
        "id": "iyQDgehfDxgC",
        "outputId": "8baf60d3-729c-45d7-cbfd-7f4605cf314c"
      },
      "outputs": [
        {
          "output_type": "stream",
          "name": "stdout",
          "text": [
            "Mounted at /content/drive\n",
            "Traceback (most recent call last):\n",
            "  File \"/content/drive/Shareddrives/Yolab - Current Projects/Patricio Gonzalez/compute_metrics_on_dataset/printTopScoringImagePairs.ipynb\", line 1, in <module>\n",
            "    {\"nbformat\":4,\"nbformat_minor\":0,\"metadata\":{\"colab\":{\"provenance\":[],\"authorship_tag\":\"ABX9TyOSrwfB2QpC7HkSPe9xxbMT\"},\"kernelspec\":{\"name\":\"python3\",\"display_name\":\"Python 3\"},\"language_info\":{\"name\":\"python\"}},\"cells\":[{\"cell_type\":\"code\",\"execution_count\":null,\"metadata\":{\"id\":\"JxnNcvAinmST\"},\"outputs\":[],\"source\":[\"import cv2\\n\",\"from google.colab.patches import cv2_imshow\\n\",\"import matplotlib.pyplot as plt\\n\",\"\\n\",\"'''\\n\",\"This function prints the highest-scoring image pairs in the format of the real and fake image side-by-side, and its metric scores under\\n\",\"\\n\",\"Inputs:\\n\",\"  1. ssim - array of SSIM scores\\n\",\"  2. mse - array of MSE scores\\n\",\"  3. psnr - array of PSNR scores\\n\",\"  4. mae - array of MAE scores\\n\",\"  5. pcc - array of PCC scores\\n\",\"  6. topList - array of highest-scoring image pair indexes\\n\",\"  7. imagePair_list - a nested list of image pairs of a real image file path and a fake image file path\\n\",\"  8. amountToPrint - integer of desired amount of image pairs and their scores to print\\n\",\"\\n\",\"Output: Prints real and fake image to skin, along with their metric scores\\n\",\"'''\\n\",\"def printTopScoringImagePairs(ssim, mse, psnr, mae, pcc, top_list, imagePair_list, amountToPrint):\\n\",\"  # Outputs the highest scoring image pairs\\n\",\"  rows = 2\\n\",\"  columns = 2\\n\",\"  \\n\",\"  print(\\\"Highest scorers: \\\\n\\\")\\n\",\"  for i in range(amountToPrint):\\n\",\"\\n\",\"    # Display the top scorers\\n\",\"    fig = plt.figure(figsize=(13, 10))\\n\",\"\\n\",\"    # Adds a subplot at the 1st position\\n\",\"    fig.add_subplot(rows, columns, 1)\\n\",\"\\n\",\"    # Showing image\\n\",\"    plt.imshow(cv2.imread(images_folder + \\\"/\\\" + imagePair_list[top_list[i]][0]))\\n\",\"    plt.axis('off')\\n\",\"    plt.title(\\\"Real Image: \\\" + \\\"\\\\n\\\" + imagePair_list[top_list[i]][0])\\n\",\"\\n\",\"    # Add subplot at 2nd position\\n\",\"    fig.add_subplot(rows, columns, 2)\\n\",\"\\n\",\"    # Showing image\\n\",\"    plt.imshow(cv2.imread(images_folder + \\\"/\\\" + imagePair_list[top_list[i]][1]))\\n\",\"    plt.axis('off')\\n\",\"    plt.title(\\\"Fake Image: \\\" + \\\"\\\\n\\\" + imagePair_list[top_list[i]][1])\\n\",\"    plt.show()\\n\",\"\\n\",\"    print(\\\"\\\\n\\\")\\n\",\"    print(\\\"Scores: \\\")\\n\",\"    print(\\\"SSIM: \\\", ssim[top_list[i]])\\n\",\"    print(\\\"MSE: \\\", mse[top_list[i]])\\n\",\"    print(\\\"PSNR: \\\", psnr[top_list[i]])\\n\",\"    print(\\\"MAE: \\\", mae[top_list[i]])\\n\",\"    print(\\\"PCC: \\\", pcc[top_list[i]])\\n\",\"    print(\\\"\\\\n\\\")\\n\",\"    print(\\\"\\\\n\\\")\"]}]}\n",
            "NameError: name 'null' is not defined\n"
          ]
        },
        {
          "output_type": "error",
          "ename": "TypeError",
          "evalue": "ignored",
          "traceback": [
            "\u001b[0;31m---------------------------------------------------------------------------\u001b[0m",
            "\u001b[0;31mTypeError\u001b[0m                                 Traceback (most recent call last)",
            "\u001b[0;32m<ipython-input-2-f000675cd32c>\u001b[0m in \u001b[0;36m<cell line: 36>\u001b[0;34m()\u001b[0m\n\u001b[1;32m     34\u001b[0m \u001b[0;34m\u001b[0m\u001b[0m\n\u001b[1;32m     35\u001b[0m \u001b[0;34m\u001b[0m\u001b[0m\n\u001b[0;32m---> 36\u001b[0;31m \u001b[0mpair_list\u001b[0m \u001b[0;34m=\u001b[0m \u001b[0mimageFolderToList\u001b[0m\u001b[0;34m(\u001b[0m\u001b[0mimages_folder\u001b[0m\u001b[0;34m)\u001b[0m\u001b[0;34m\u001b[0m\u001b[0;34m\u001b[0m\u001b[0m\n\u001b[0m\u001b[1;32m     37\u001b[0m \u001b[0;34m\u001b[0m\u001b[0m\n\u001b[1;32m     38\u001b[0m \u001b[0mkwargs\u001b[0m \u001b[0;34m=\u001b[0m \u001b[0;34m{\u001b[0m\u001b[0;34m\"arg1\"\u001b[0m\u001b[0;34m:\u001b[0m \u001b[0mpair_list\u001b[0m\u001b[0;34m,\u001b[0m \u001b[0;34m\"arg2\"\u001b[0m\u001b[0;34m:\u001b[0m \u001b[0mimages_folder\u001b[0m\u001b[0;34m,\u001b[0m \u001b[0;34m\"arg3\"\u001b[0m\u001b[0;34m:\u001b[0m \u001b[0moutput_csv_file_path\u001b[0m\u001b[0;34m}\u001b[0m\u001b[0;34m\u001b[0m\u001b[0;34m\u001b[0m\u001b[0m\n",
            "\u001b[0;31mTypeError\u001b[0m: imageFolderToList() takes no arguments"
          ]
        }
      ],
      "source": [
        "from google.colab import drive\n",
        "import sys\n",
        "sys.path.append('/content/drive/Shareddrives/Yolab - Current Projects/Patricio Gonzalez/compute_metrics_on_dataset/')\n",
        "\n",
        "# Mount your google drive to colab\n",
        "drive.mount('/content/drive', force_remount=True)\n",
        "\n",
        "# imageFolderToList\n",
        "from imageFolderToList import imageFolderToList\n",
        "\n",
        "# calculateMetricArrays\n",
        "!python '/content/drive/Shareddrives/Yolab - Current Projects/Patricio Gonzalez/compute_metrics_on_dataset/calculateMetricArrays.py'\n",
        "from calculateMetricArrays import calculateMetricArrays\n",
        "\n",
        "# printmetricAverages\n",
        "!python '/content/drive/Shareddrives/Yolab - Current Projects/Patricio Gonzalez/compute_metrics_on_dataset/printMetricAverages.py'\n",
        "from printMetricAverages import printMetricAverages\n",
        "\n",
        "# pickTopScoringImagePairs\n",
        "!python '/content/drive/Shareddrives/Yolab - Current Projects/Patricio Gonzalez/compute_metrics_on_dataset/pickTopScoringImagePairs.py'\n",
        "from pickTopScoringImagePairs import pickTopScoringImagePairs\n",
        "\n",
        "# printTopScoringImagePairs\n",
        "!python '/content/drive/Shareddrives/Yolab - Current Projects/Patricio Gonzalez/compute_metrics_on_dataset/printTopScoringImagePairs.ipynb'\n",
        "from printTopScoringImagePairs import printTopScoringImagePairs\n",
        "\n",
        "# pickLowestScoringImagePairs\n",
        "!python '/content/drive/Shareddrives/Yolab - Current Projects/Patricio Gonzalez/compute_metrics_on_dataset/pickLowestScoringImagePairs.py'\n",
        "from pickLowestScoringImagePairs import pickLowestScoringImagePairs\n",
        "\n",
        "# printLowestScoringImagePairs\n",
        "!python '/content/drive/Shareddrives/Yolab - Current Projects/Patricio Gonzalez/compute_metrics_on_dataset/printLowestScoringImagePairs.py'\n",
        "from printLowestScoringImagePairs import printLowestScoringImagePairs\n",
        "\n",
        "\n",
        "pair_list = imageFolderToList(images_folder)\n",
        "\n",
        "kwargs = {\"arg1\": pair_list, \"arg2\": images_folder, \"arg3\": output_csv_file_path}\n",
        "ssim, mse, psnr, mae, pcc = calculateMetricArrays(**kwargs)"
      ]
    },
    {
      "cell_type": "markdown",
      "metadata": {
        "id": "doTLHuwpjxG9"
      },
      "source": [
        "# Output - Metric Score Averages"
      ]
    },
    {
      "cell_type": "code",
      "execution_count": null,
      "metadata": {
        "id": "6oZ1-FiWj3wF"
      },
      "outputs": [],
      "source": [
        "printMetricAverages(ssim, mse, psnr, mae, pcc)"
      ]
    },
    {
      "cell_type": "markdown",
      "metadata": {
        "id": "WLho6Kk6jgQj"
      },
      "source": [
        "# Output - Best Scores"
      ]
    },
    {
      "cell_type": "code",
      "execution_count": null,
      "metadata": {
        "id": "HdL_b3Fqjll2"
      },
      "outputs": [],
      "source": [
        "top = pickTopScoringImagePairs(ssim, mse, psnr, mae, pcc)\n",
        "printTopScoringImagePairs(ssim, mse, psnr, mae, pcc, top, pair_list, number)"
      ]
    },
    {
      "cell_type": "markdown",
      "metadata": {
        "id": "Sd49FGT8jo5Y"
      },
      "source": [
        "# Output - Worst Scores"
      ]
    },
    {
      "cell_type": "code",
      "execution_count": null,
      "metadata": {
        "id": "MXBUmHFNjrDm"
      },
      "outputs": [],
      "source": [
        "low = pickLowestScoringImagePairs(ssim, mse, psnr, mae, pcc)\n",
        "printLowestScoringImagePairs(ssim, mse, psnr, mae, pcc, low, pair_list, number)"
      ]
    }
  ],
  "metadata": {
    "colab": {
      "provenance": []
    },
    "kernelspec": {
      "display_name": "Python 3",
      "name": "python3"
    },
    "language_info": {
      "name": "python"
    }
  },
  "nbformat": 4,
  "nbformat_minor": 0
}