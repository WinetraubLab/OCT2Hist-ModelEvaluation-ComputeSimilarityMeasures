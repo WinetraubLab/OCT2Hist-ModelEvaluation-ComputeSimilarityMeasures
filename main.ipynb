{
  "cells": [
    {
      "cell_type": "markdown",
      "source": [
        "# Compute Similarity Measures"
      ],
      "metadata": {
        "id": "fHisYrTLJw7v"
      }
    },
    {
      "cell_type": "markdown",
      "source": [
        "Click to open in: [[GitHub](https://github.com/WinetraubLab/OCT2Hist-ModelEvaluation-ComputeSimilarityMeasures/blob/main/main.ipynb)][[Colab](https://colab.research.google.com/github/WinetraubLab/OCT2Hist-ModelEvaluation-ComputeSimilarityMeasures/blob/main/main.ipynb)]"
      ],
      "metadata": {
        "id": "svJABVdlruQ5"
      }
    },
    {
      "cell_type": "markdown",
      "metadata": {
        "id": "4EGufdffjHjK"
      },
      "source": [
        "## Inputs\n"
      ]
    },
    {
      "cell_type": "code",
      "execution_count": null,
      "metadata": {
        "id": "z_G_r9iwjDXq"
      },
      "outputs": [],
      "source": [
        "# Input file path of images\n",
        "images_folder = '/content/drive/Shareddrives/Yolab - Current Projects/Patricio Gonzalez/Pix2Pix Dataset/comparison testing dataset'\n",
        "\n",
        "# Select how many paired images and their scores to present (best and worst scores)\n",
        "number = 5\n",
        "\n",
        "# Output CSV file path where the scores of each image will be saved to and name of CSV file\n",
        "output_csv_file_path = '/content/drive/Shareddrives/Yolab - Current Projects/Patricio Gonzalez/Pix2Pix Dataset/output.csv'"
      ]
    },
    {
      "cell_type": "markdown",
      "source": [
        "## Installation Commands"
      ],
      "metadata": {
        "id": "NsnmwYB-FEFp"
      }
    },
    {
      "cell_type": "code",
      "source": [
        "!git clone https://github.com/WinetraubLab/OCT2Hist-ModelEvaluation-ComputeSimilarityMeasures.git\n",
        "\n",
        "from google.colab import drive\n",
        "drive.mount('/content/drive')\n",
        "\n",
        "import sys\n",
        "sys.path.append('OCT2Hist-ModelEvaluation-ComputeSimilarityMeasures')"
      ],
      "metadata": {
        "id": "HQUzP_PHFFup",
        "outputId": "22055d7e-f0dc-4509-fed0-06d2723d0d8f",
        "colab": {
          "base_uri": "https://localhost:8080/"
        }
      },
      "execution_count": null,
      "outputs": [
        {
          "output_type": "stream",
          "name": "stdout",
          "text": [
            "Cloning into 'OCT2Hist-ModelEvaluation-ComputeSimilarityMeasures'...\n",
            "remote: Enumerating objects: 241, done.\u001b[K\n",
            "remote: Counting objects: 100% (72/72), done.\u001b[K\n",
            "remote: Compressing objects: 100% (47/47), done.\u001b[K\n",
            "remote: Total 241 (delta 40), reused 54 (delta 25), pack-reused 169\u001b[K\n",
            "Receiving objects: 100% (241/241), 3.38 MiB | 28.64 MiB/s, done.\n",
            "Resolving deltas: 100% (140/140), done.\n",
            "Mounted at /content/drive\n"
          ]
        }
      ]
    },
    {
      "cell_type": "markdown",
      "metadata": {
        "id": "TGh3vysxja3S"
      },
      "source": [
        "# Main Function"
      ]
    },
    {
      "cell_type": "code",
      "execution_count": null,
      "metadata": {
        "id": "iyQDgehfDxgC"
      },
      "outputs": [],
      "source": [
        "from splitImagesInFolderToRealAndFakeLists import splitImagesInFolderToRealAndFakeLists\n",
        "from calculateMetricArrays import calculateMetricArrays\n",
        "from printMetricAverages import printMetricAverages\n",
        "from pickTopScoringImagePairs import pickTopScoringImagePairs\n",
        "from printTopScoringImagePairs import printTopScoringImagePairs\n",
        "from pickLowestScoringImagePairs import pickLowestScoringImagePairs\n",
        "from printLowestScoringImagePairs import printLowestScoringImagePairs\n",
        "\n",
        "real_list, fake_list, mask_list = splitImagesInFolderToRealAndFakeLists(images_folder)\n",
        "ssim, mse, psnr, mae, pcc = calculateMetricArrays(real_list, fake_list, mask_list, output_csv_file_path)"
      ]
    },
    {
      "cell_type": "markdown",
      "metadata": {
        "id": "doTLHuwpjxG9"
      },
      "source": [
        "# Output - Metric Score Averages"
      ]
    },
    {
      "cell_type": "code",
      "execution_count": null,
      "metadata": {
        "id": "6oZ1-FiWj3wF",
        "outputId": "08a9531b-0b68-4bd8-960e-c31a62c8bb38",
        "colab": {
          "base_uri": "https://localhost:8080/"
        }
      },
      "outputs": [
        {
          "output_type": "stream",
          "name": "stdout",
          "text": [
            "Average scores:\n",
            "Average SSIM:  0.839\n",
            "Average MSE:  0.033\n",
            "Average PSNR:  15.067\n",
            "Average MAE:  0.109\n",
            "Average PCC:  0.844\n",
            "\n",
            "\n"
          ]
        }
      ],
      "source": [
        "printMetricAverages(ssim, mse, psnr, mae, pcc)"
      ]
    },
    {
      "cell_type": "markdown",
      "metadata": {
        "id": "WLho6Kk6jgQj"
      },
      "source": [
        "# Output - Best Scores"
      ]
    },
    {
      "cell_type": "code",
      "execution_count": null,
      "metadata": {
        "id": "HdL_b3Fqjll2"
      },
      "outputs": [],
      "source": [
        "top = pickTopScoringImagePairs(ssim, mse, psnr, mae, pcc, number)\n",
        "printTopScoringImagePairs(ssim, mse, psnr, mae, pcc, top, real_list, fake_list, number)"
      ]
    },
    {
      "cell_type": "markdown",
      "metadata": {
        "id": "Sd49FGT8jo5Y"
      },
      "source": [
        "# Output - Worst Scores"
      ]
    },
    {
      "cell_type": "code",
      "execution_count": null,
      "metadata": {
        "id": "MXBUmHFNjrDm"
      },
      "outputs": [],
      "source": [
        "low = pickLowestScoringImagePairs(ssim, mse, psnr, mae, pcc, number)\n",
        "printLowestScoringImagePairs(ssim, mse, psnr, mae, pcc, low, real_list, fake_list, number)"
      ]
    }
  ],
  "metadata": {
    "colab": {
      "provenance": []
    },
    "kernelspec": {
      "display_name": "Python 3",
      "name": "python3"
    },
    "language_info": {
      "name": "python"
    }
  },
  "nbformat": 4,
  "nbformat_minor": 0
}