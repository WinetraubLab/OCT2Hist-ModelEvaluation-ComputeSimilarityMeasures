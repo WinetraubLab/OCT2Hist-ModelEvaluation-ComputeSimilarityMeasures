{
  "cells": [
    {
      "cell_type": "markdown",
      "source": [
        "# Installation Commands"
      ],
      "metadata": {
        "id": "NsnmwYB-FEFp"
      }
    },
    {
      "cell_type": "code",
      "source": [
        "!git clone https://github.com/WinetraubLab/OCT2Hist-ModelEvaluation-ComputeSimilarityMeasures.git"
      ],
      "metadata": {
        "id": "HQUzP_PHFFup",
        "outputId": "99a74e17-a5e4-4778-f570-ee14128c67bf",
        "colab": {
          "base_uri": "https://localhost:8080/"
        }
      },
      "execution_count": 6,
      "outputs": [
        {
          "output_type": "stream",
          "name": "stdout",
          "text": [
            "fatal: destination path 'OCT2Hist-ModelEvaluation-ComputeSimilarityMeasures' already exists and is not an empty directory.\n"
          ]
        }
      ]
    },
    {
      "cell_type": "markdown",
      "metadata": {
        "id": "4EGufdffjHjK"
      },
      "source": [
        "# Script Inputs\n"
      ]
    },
    {
      "cell_type": "code",
      "execution_count": 7,
      "metadata": {
        "id": "z_G_r9iwjDXq"
      },
      "outputs": [],
      "source": [
        "# Separate images within a folder into lists based on if they end with \"real_B\" or \"fake_B\"\n",
        "images_folder = '/content/drive/Shareddrives/Yolab - Current Projects/Paulo de Luna/cycleGan/test_results/oct2h_e/test_latest/images'\n",
        "\n",
        "# Select how many paired images and their scores to present (best and worst scores)\n",
        "number = 5\n",
        "\n",
        "# Output CSV file path where the scores of each image will be saved to and name of CSV file\n",
        "output_csv_file_path = '/content/drive/Shareddrives/Yolab - Current Projects/Patricio Gonzalez/compute_metrics_on_dataset/output.csv'"
      ]
    },
    {
      "cell_type": "markdown",
      "metadata": {
        "id": "TGh3vysxja3S"
      },
      "source": [
        "# Main Function"
      ]
    },
    {
      "cell_type": "code",
      "execution_count": 11,
      "metadata": {
        "colab": {
          "base_uri": "https://localhost:8080/",
          "height": 327
        },
        "id": "iyQDgehfDxgC",
        "outputId": "cd8f0227-56ad-495b-eb73-41906eeea340"
      },
      "outputs": [
        {
          "output_type": "error",
          "ename": "NameError",
          "evalue": "ignored",
          "traceback": [
            "\u001b[0;31m---------------------------------------------------------------------------\u001b[0m",
            "\u001b[0;31mNameError\u001b[0m                                 Traceback (most recent call last)",
            "\u001b[0;32m<ipython-input-11-428c440a495c>\u001b[0m in \u001b[0;36m<cell line: 7>\u001b[0;34m()\u001b[0m\n\u001b[1;32m      5\u001b[0m \u001b[0;34m\u001b[0m\u001b[0m\n\u001b[1;32m      6\u001b[0m \u001b[0mpair_list\u001b[0m \u001b[0;34m=\u001b[0m \u001b[0mimageFolderToList\u001b[0m\u001b[0;34m(\u001b[0m\u001b[0mimages_folder\u001b[0m\u001b[0;34m)\u001b[0m\u001b[0;34m\u001b[0m\u001b[0;34m\u001b[0m\u001b[0m\n\u001b[0;32m----> 7\u001b[0;31m \u001b[0mcalculateMetricArrays\u001b[0m\u001b[0;34m(\u001b[0m\u001b[0mpair_list\u001b[0m\u001b[0;34m,\u001b[0m \u001b[0mimages_folder\u001b[0m\u001b[0;34m,\u001b[0m \u001b[0moutput_csv_file_path\u001b[0m\u001b[0;34m)\u001b[0m\u001b[0;34m\u001b[0m\u001b[0;34m\u001b[0m\u001b[0m\n\u001b[0m",
            "\u001b[0;32m/content/OCT2Hist-ModelEvaluation-ComputeSimilarityMeasures/calculateMetricArrays.py\u001b[0m in \u001b[0;36mcalculateMetricArrays\u001b[0;34m(imagePair_list, imageFolder, outputFilePath)\u001b[0m\n\u001b[1;32m     45\u001b[0m     \u001b[0;32mfor\u001b[0m \u001b[0mi\u001b[0m \u001b[0;32min\u001b[0m \u001b[0mimagePair_list\u001b[0m\u001b[0;34m:\u001b[0m\u001b[0;34m\u001b[0m\u001b[0;34m\u001b[0m\u001b[0m\n\u001b[1;32m     46\u001b[0m         \u001b[0;31m# Convert current A and B images to grayscale\u001b[0m\u001b[0;34m\u001b[0m\u001b[0;34m\u001b[0m\u001b[0m\n\u001b[0;32m---> 47\u001b[0;31m         \u001b[0ma_image\u001b[0m \u001b[0;34m=\u001b[0m \u001b[0mnp\u001b[0m\u001b[0;34m.\u001b[0m\u001b[0marray\u001b[0m\u001b[0;34m(\u001b[0m\u001b[0mcolor\u001b[0m\u001b[0;34m.\u001b[0m\u001b[0mrgb2gray\u001b[0m\u001b[0;34m(\u001b[0m\u001b[0mio\u001b[0m\u001b[0;34m.\u001b[0m\u001b[0mimread\u001b[0m\u001b[0;34m(\u001b[0m\u001b[0margs\u001b[0m \u001b[0;34m+\u001b[0m \u001b[0;34m\"/\"\u001b[0m \u001b[0;34m+\u001b[0m \u001b[0mi\u001b[0m\u001b[0;34m[\u001b[0m\u001b[0;36m0\u001b[0m\u001b[0;34m]\u001b[0m\u001b[0;34m)\u001b[0m\u001b[0;34m)\u001b[0m\u001b[0;34m)\u001b[0m\u001b[0;34m\u001b[0m\u001b[0;34m\u001b[0m\u001b[0m\n\u001b[0m\u001b[1;32m     48\u001b[0m         \u001b[0mb_image\u001b[0m \u001b[0;34m=\u001b[0m \u001b[0mnp\u001b[0m\u001b[0;34m.\u001b[0m\u001b[0marray\u001b[0m\u001b[0;34m(\u001b[0m\u001b[0mcolor\u001b[0m\u001b[0;34m.\u001b[0m\u001b[0mrgb2gray\u001b[0m\u001b[0;34m(\u001b[0m\u001b[0mio\u001b[0m\u001b[0;34m.\u001b[0m\u001b[0mimread\u001b[0m\u001b[0;34m(\u001b[0m\u001b[0margs\u001b[0m \u001b[0;34m+\u001b[0m \u001b[0;34m\"/\"\u001b[0m \u001b[0;34m+\u001b[0m \u001b[0mi\u001b[0m\u001b[0;34m[\u001b[0m\u001b[0;36m1\u001b[0m\u001b[0;34m]\u001b[0m\u001b[0;34m)\u001b[0m\u001b[0;34m)\u001b[0m\u001b[0;34m)\u001b[0m\u001b[0;34m\u001b[0m\u001b[0;34m\u001b[0m\u001b[0m\n\u001b[1;32m     49\u001b[0m \u001b[0;34m\u001b[0m\u001b[0m\n",
            "\u001b[0;31mNameError\u001b[0m: name 'args' is not defined"
          ]
        }
      ],
      "source": [
        "import sys\n",
        "sys.path.append('OCT2Hist-ModelEvaluation-ComputeSimilarityMeasures')\n",
        "\n",
        "from imageFolderToList import imageFolderToList\n",
        "\n",
        "pair_list = imageFolderToList(images_folder)\n",
        "calculateMetricArrays(pair_list, images_folder, output_csv_file_path)"
      ]
    },
    {
      "cell_type": "markdown",
      "metadata": {
        "id": "doTLHuwpjxG9"
      },
      "source": [
        "# Output - Metric Score Averages"
      ]
    },
    {
      "cell_type": "code",
      "execution_count": 9,
      "metadata": {
        "id": "6oZ1-FiWj3wF",
        "outputId": "2e222a95-6cde-4468-be5e-cf66a700cd77",
        "colab": {
          "base_uri": "https://localhost:8080/",
          "height": 168
        }
      },
      "outputs": [
        {
          "output_type": "error",
          "ename": "NameError",
          "evalue": "ignored",
          "traceback": [
            "\u001b[0;31m---------------------------------------------------------------------------\u001b[0m",
            "\u001b[0;31mNameError\u001b[0m                                 Traceback (most recent call last)",
            "\u001b[0;32m<ipython-input-9-b9cbafe3119d>\u001b[0m in \u001b[0;36m<cell line: 1>\u001b[0;34m()\u001b[0m\n\u001b[0;32m----> 1\u001b[0;31m \u001b[0mprintMetricAverages\u001b[0m\u001b[0;34m(\u001b[0m\u001b[0mssim\u001b[0m\u001b[0;34m,\u001b[0m \u001b[0mmse\u001b[0m\u001b[0;34m,\u001b[0m \u001b[0mpsnr\u001b[0m\u001b[0;34m,\u001b[0m \u001b[0mmae\u001b[0m\u001b[0;34m,\u001b[0m \u001b[0mpcc\u001b[0m\u001b[0;34m)\u001b[0m\u001b[0;34m\u001b[0m\u001b[0;34m\u001b[0m\u001b[0m\n\u001b[0m",
            "\u001b[0;31mNameError\u001b[0m: name 'printMetricAverages' is not defined"
          ]
        }
      ],
      "source": [
        "printMetricAverages(ssim, mse, psnr, mae, pcc)"
      ]
    },
    {
      "cell_type": "markdown",
      "metadata": {
        "id": "WLho6Kk6jgQj"
      },
      "source": [
        "# Output - Best Scores"
      ]
    },
    {
      "cell_type": "code",
      "execution_count": null,
      "metadata": {
        "id": "HdL_b3Fqjll2"
      },
      "outputs": [],
      "source": [
        "top = pickTopScoringImagePairs(ssim, mse, psnr, mae, pcc)\n",
        "printTopScoringImagePairs(ssim, mse, psnr, mae, pcc, top, pair_list, number)"
      ]
    },
    {
      "cell_type": "markdown",
      "metadata": {
        "id": "Sd49FGT8jo5Y"
      },
      "source": [
        "# Output - Worst Scores"
      ]
    },
    {
      "cell_type": "code",
      "execution_count": null,
      "metadata": {
        "id": "MXBUmHFNjrDm"
      },
      "outputs": [],
      "source": [
        "low = pickLowestScoringImagePairs(ssim, mse, psnr, mae, pcc)\n",
        "printLowestScoringImagePairs(ssim, mse, psnr, mae, pcc, low, pair_list, number)"
      ]
    }
  ],
  "metadata": {
    "colab": {
      "provenance": []
    },
    "kernelspec": {
      "display_name": "Python 3",
      "name": "python3"
    },
    "language_info": {
      "name": "python"
    }
  },
  "nbformat": 4,
  "nbformat_minor": 0
}