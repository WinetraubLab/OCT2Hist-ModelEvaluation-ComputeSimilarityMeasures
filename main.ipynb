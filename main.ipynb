{
  "cells": [
    {
      "cell_type": "markdown",
      "metadata": {
        "id": "4EGufdffjHjK"
      },
      "source": [
        "# Script Inputs\n"
      ]
    },
    {
      "cell_type": "code",
      "execution_count": 17,
      "metadata": {
        "id": "z_G_r9iwjDXq"
      },
      "outputs": [],
      "source": [
        "# Separate images within a folder into lists based on if they end with \"real_B\" or \"fake_B\"\n",
        "images_folder = '/content/drive/Shareddrives/Yolab - Current Projects/Paulo de Luna/cycleGan/test_results/oct2h_e/test_latest/images'\n",
        "\n",
        "# Select how many paired images and their scores to present (best and worst scores)\n",
        "number = 5\n",
        "\n",
        "# Output CSV file path where the scores of each image will be saved to and name of CSV file\n",
        "output_csv_file_path = '/content/drive/Shareddrives/Yolab - Current Projects/Patricio Gonzalez/compute_metrics_on_dataset/output.csv'"
      ]
    },
    {
      "cell_type": "markdown",
      "metadata": {
        "id": "TGh3vysxja3S"
      },
      "source": [
        "# Main Function"
      ]
    },
    {
      "cell_type": "code",
      "execution_count": 18,
      "metadata": {
        "colab": {
          "base_uri": "https://localhost:8080/",
          "height": 256
        },
        "id": "iyQDgehfDxgC",
        "outputId": "216757fa-8bc3-46ae-8e60-f7f3755836f5"
      },
      "outputs": [
        {
          "output_type": "stream",
          "name": "stdout",
          "text": [
            "Mounted at /content/drive\n"
          ]
        },
        {
          "output_type": "error",
          "ename": "TypeError",
          "evalue": "ignored",
          "traceback": [
            "\u001b[0;31m---------------------------------------------------------------------------\u001b[0m",
            "\u001b[0;31mTypeError\u001b[0m                                 Traceback (most recent call last)",
            "\u001b[0;32m<ipython-input-18-28d12435f34c>\u001b[0m in \u001b[0;36m<cell line: 29>\u001b[0;34m()\u001b[0m\n\u001b[1;32m     27\u001b[0m \u001b[0;34m\u001b[0m\u001b[0m\n\u001b[1;32m     28\u001b[0m \u001b[0;34m\u001b[0m\u001b[0m\n\u001b[0;32m---> 29\u001b[0;31m \u001b[0mpair_list\u001b[0m \u001b[0;34m=\u001b[0m \u001b[0mimageFolderToList\u001b[0m\u001b[0;34m(\u001b[0m\u001b[0mimages_folder\u001b[0m\u001b[0;34m)\u001b[0m\u001b[0;34m\u001b[0m\u001b[0;34m\u001b[0m\u001b[0m\n\u001b[0m\u001b[1;32m     30\u001b[0m \u001b[0;34m\u001b[0m\u001b[0m\n\u001b[1;32m     31\u001b[0m \u001b[0mkwargs\u001b[0m \u001b[0;34m=\u001b[0m \u001b[0;34m{\u001b[0m\u001b[0;34m\"arg1\"\u001b[0m\u001b[0;34m:\u001b[0m \u001b[0mpair_list\u001b[0m\u001b[0;34m,\u001b[0m \u001b[0;34m\"arg2\"\u001b[0m\u001b[0;34m:\u001b[0m \u001b[0mimages_folder\u001b[0m\u001b[0;34m,\u001b[0m \u001b[0;34m\"arg3\"\u001b[0m\u001b[0;34m:\u001b[0m \u001b[0moutput_csv_file_path\u001b[0m\u001b[0;34m}\u001b[0m\u001b[0;34m\u001b[0m\u001b[0;34m\u001b[0m\u001b[0m\n",
            "\u001b[0;31mTypeError\u001b[0m: imageFolderToList() takes no arguments"
          ]
        }
      ],
      "source": [
        "from google.colab import drive\n",
        "import sys\n",
        "sys.path.append('/content/drive/Shareddrives/Yolab - Current Projects/Patricio Gonzalez/compute_metrics_on_dataset/')\n",
        "\n",
        "# Mount your google drive to colab\n",
        "drive.mount('/content/drive', force_remount=True)\n",
        "\n",
        "# imageFolderToList\n",
        "from imageFolderToList import imageFolderToList\n",
        "\n",
        "# calculateMetricArrays\n",
        "\n",
        "\n",
        "# printmetricAverages\n",
        "\n",
        "\n",
        "# pickTopScoringImagePairs\n",
        "\n",
        "\n",
        "# printTopScoringImagePairs\n",
        "\n",
        "\n",
        "# pickLowestScoringImagePairs\n",
        "\n",
        "\n",
        "# printLowestScoringImagePairs\n",
        "\n",
        "\n",
        "pair_list = imageFolderToList(images_folder)\n",
        "\n",
        "kwargs = {\"arg1\": pair_list, \"arg2\": images_folder, \"arg3\": output_csv_file_path}\n",
        "ssim, mse, psnr, mae, pcc = calculateMetricArrays(**kwargs)"
      ]
    },
    {
      "cell_type": "markdown",
      "metadata": {
        "id": "doTLHuwpjxG9"
      },
      "source": [
        "# Output - Metric Score Averages"
      ]
    },
    {
      "cell_type": "code",
      "execution_count": null,
      "metadata": {
        "id": "6oZ1-FiWj3wF"
      },
      "outputs": [],
      "source": [
        "printMetricAverages(ssim, mse, psnr, mae, pcc)"
      ]
    },
    {
      "cell_type": "markdown",
      "metadata": {
        "id": "WLho6Kk6jgQj"
      },
      "source": [
        "# Output - Best Scores"
      ]
    },
    {
      "cell_type": "code",
      "execution_count": null,
      "metadata": {
        "id": "HdL_b3Fqjll2"
      },
      "outputs": [],
      "source": [
        "top = pickTopScoringImagePairs(ssim, mse, psnr, mae, pcc)\n",
        "printTopScoringImagePairs(ssim, mse, psnr, mae, pcc, top, pair_list, number)"
      ]
    },
    {
      "cell_type": "markdown",
      "metadata": {
        "id": "Sd49FGT8jo5Y"
      },
      "source": [
        "# Output - Worst Scores"
      ]
    },
    {
      "cell_type": "code",
      "execution_count": null,
      "metadata": {
        "id": "MXBUmHFNjrDm"
      },
      "outputs": [],
      "source": [
        "low = pickLowestScoringImagePairs(ssim, mse, psnr, mae, pcc)\n",
        "printLowestScoringImagePairs(ssim, mse, psnr, mae, pcc, low, pair_list, number)"
      ]
    }
  ],
  "metadata": {
    "colab": {
      "provenance": []
    },
    "kernelspec": {
      "display_name": "Python 3",
      "name": "python3"
    },
    "language_info": {
      "name": "python"
    }
  },
  "nbformat": 4,
  "nbformat_minor": 0
}